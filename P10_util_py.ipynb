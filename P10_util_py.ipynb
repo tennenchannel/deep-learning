{
  "nbformat": 4,
  "nbformat_minor": 0,
  "metadata": {
    "colab": {
      "provenance": [],
      "authorship_tag": "ABX9TyPaeBv+rfmIFnIThmzZeAQ+",
      "include_colab_link": true
    },
    "kernelspec": {
      "name": "python3",
      "display_name": "Python 3"
    },
    "language_info": {
      "name": "python"
    }
  },
  "cells": [
    {
      "cell_type": "markdown",
      "metadata": {
        "id": "view-in-github",
        "colab_type": "text"
      },
      "source": [
        "<a href=\"https://colab.research.google.com/github/tennenchannel/deep-learning/blob/main/P10_util_py.ipynb\" target=\"_parent\"><img src=\"https://colab.research.google.com/assets/colab-badge.svg\" alt=\"Open In Colab\"/></a>"
      ]
    },
    {
      "cell_type": "code",
      "execution_count": null,
      "metadata": {
        "id": "8OWQW7ve9P7V"
      },
      "outputs": [],
      "source": [
        "import os\n",
        "import shutil\n",
        "import sys\n",
        "\n",
        "from tansorflow.keras.datasets import mnist\n",
        "from tensorflow.keras.utils import to_categorical\n",
        "\n",
        "def mkdir(d,rm=False):\n",
        "  if rm:\n",
        "    shutil.rmtree(d,ignore_errors=True)\n",
        "    os.makedirs(d)\n",
        "  else:\n",
        "    try:\n",
        "      os.makedirs(d)\n",
        "    except FileExistsError: pass\n",
        "  \n",
        "#get training data\n",
        "def load_data(data_size=-1):\n",
        "  (train_images,train_classes),(_,_)=mnist.load_data()\n",
        "  train_imges=train_images.reshape(60000,28,28,1)\n",
        "  train_images.astype('float32')/255\n",
        "  train_classes=to_categorical(train_classes)\n",
        "  if data_size >len(train_classes):\n",
        "    print('[ERROR] data_size should be less than or equal to len(train_images).')\n",
        "    sys.exit(0)\n",
        "  \n",
        "  elif data_size==-1:\n",
        "    data_size=len(train_images)\n",
        "\n",
        "  return train_images[:data_size],train_classes[:data_size]\n"
      ]
    }
  ]
}